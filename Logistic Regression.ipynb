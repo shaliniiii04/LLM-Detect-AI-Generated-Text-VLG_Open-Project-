{
 "cells": [
  {
   "cell_type": "code",
   "execution_count": 5,
   "id": "3a7e8136",
   "metadata": {},
   "outputs": [
    {
     "name": "stderr",
     "output_type": "stream",
     "text": [
      "C:\\Users\\HP\\AppData\\Local\\Programs\\Python\\Python311\\Lib\\site-packages\\sklearn\\model_selection\\_split.py:700: UserWarning: The least populated class in y has only 2 members, which is less than n_splits=5.\n",
      "  warnings.warn(\n",
      "C:\\Users\\HP\\AppData\\Local\\Programs\\Python\\Python311\\Lib\\site-packages\\sklearn\\model_selection\\_validation.py:378: FitFailedWarning: \n",
      "25 fits failed out of a total of 50.\n",
      "The score on these train-test partitions for these parameters will be set to nan.\n",
      "If these failures are not expected, you can try to debug them by setting error_score='raise'.\n",
      "\n",
      "Below are more details about the failures:\n",
      "--------------------------------------------------------------------------------\n",
      "25 fits failed with the following error:\n",
      "Traceback (most recent call last):\n",
      "  File \"C:\\Users\\HP\\AppData\\Local\\Programs\\Python\\Python311\\Lib\\site-packages\\sklearn\\model_selection\\_validation.py\", line 686, in _fit_and_score\n",
      "    estimator.fit(X_train, y_train, **fit_params)\n",
      "  File \"C:\\Users\\HP\\AppData\\Local\\Programs\\Python\\Python311\\Lib\\site-packages\\sklearn\\linear_model\\_logistic.py\", line 1162, in fit\n",
      "    solver = _check_solver(self.solver, self.penalty, self.dual)\n",
      "             ^^^^^^^^^^^^^^^^^^^^^^^^^^^^^^^^^^^^^^^^^^^^^^^^^^^\n",
      "  File \"C:\\Users\\HP\\AppData\\Local\\Programs\\Python\\Python311\\Lib\\site-packages\\sklearn\\linear_model\\_logistic.py\", line 54, in _check_solver\n",
      "    raise ValueError(\n",
      "ValueError: Solver lbfgs supports only 'l2' or 'none' penalties, got l1 penalty.\n",
      "\n",
      "  warnings.warn(some_fits_failed_message, FitFailedWarning)\n",
      "C:\\Users\\HP\\AppData\\Local\\Programs\\Python\\Python311\\Lib\\site-packages\\sklearn\\model_selection\\_search.py:953: UserWarning: One or more of the test scores are non-finite: [       nan 0.99819005        nan 0.99819005        nan 0.99819005\n",
      "        nan 0.99819005        nan 0.99819005]\n",
      "  warnings.warn(\n"
     ]
    },
    {
     "name": "stdout",
     "output_type": "stream",
     "text": [
      "Best Hyperparameters for Logistic Regression: {'C': 0.001, 'penalty': 'l2'}\n",
      "              precision    recall  f1-score   support\n",
      "\n",
      "           0       1.00      1.00      1.00       275\n",
      "           1       0.00      0.00      0.00         1\n",
      "\n",
      "    accuracy                           1.00       276\n",
      "   macro avg       0.50      0.50      0.50       276\n",
      "weighted avg       0.99      1.00      0.99       276\n",
      "\n",
      "Logistic Regression Accuracy on Validation Set: 0.9963768115942029\n"
     ]
    },
    {
     "name": "stderr",
     "output_type": "stream",
     "text": [
      "C:\\Users\\HP\\AppData\\Local\\Programs\\Python\\Python311\\Lib\\site-packages\\sklearn\\metrics\\_classification.py:1344: UndefinedMetricWarning: Precision and F-score are ill-defined and being set to 0.0 in labels with no predicted samples. Use `zero_division` parameter to control this behavior.\n",
      "  _warn_prf(average, modifier, msg_start, len(result))\n",
      "C:\\Users\\HP\\AppData\\Local\\Programs\\Python\\Python311\\Lib\\site-packages\\sklearn\\metrics\\_classification.py:1344: UndefinedMetricWarning: Precision and F-score are ill-defined and being set to 0.0 in labels with no predicted samples. Use `zero_division` parameter to control this behavior.\n",
      "  _warn_prf(average, modifier, msg_start, len(result))\n",
      "C:\\Users\\HP\\AppData\\Local\\Programs\\Python\\Python311\\Lib\\site-packages\\sklearn\\metrics\\_classification.py:1344: UndefinedMetricWarning: Precision and F-score are ill-defined and being set to 0.0 in labels with no predicted samples. Use `zero_division` parameter to control this behavior.\n",
      "  _warn_prf(average, modifier, msg_start, len(result))\n"
     ]
    }
   ],
   "source": [
    "import pandas as pd\n",
    "import re\n",
    "from sklearn.model_selection import train_test_split, GridSearchCV\n",
    "from sklearn.feature_extraction.text import TfidfVectorizer\n",
    "from sklearn.linear_model import LogisticRegression\n",
    "from sklearn.metrics import accuracy_score\n",
    "\n",
    "# Load the training and test data\n",
    "# Load data\n",
    "training_data = pd.read_csv(\"train_essays.csv\")\n",
    "test_data = pd.read_csv(\"test_essays.csv\")\n",
    "\n",
    "# Define a custom text preprocessing function\n",
    "def preprocess_text(text):\n",
    "    # Convert text to lowercase\n",
    "    text = text.lower()\n",
    "    \n",
    "    # Remove special characters and digits\n",
    "    text = re.sub(r'[^a-zA-Z\\s]', '', text)\n",
    "    \n",
    "    # Tokenization, stopwords removal, and other steps are already covered by TfidfVectorizer\n",
    "    \n",
    "    return text\n",
    "\n",
    "# Split the training data into features and labels\n",
    "X_train, X_validation, y_train, y_validation = train_test_split(training_data['text'], training_data['generated'], test_size=0.2, random_state=42)\n",
    "\n",
    "# Create a pipeline with TF-IDF vectorizer and Logistic Regression classifier\n",
    "vectorizer_lr = TfidfVectorizer(preprocessor=preprocess_text)\n",
    "X_train_tfidf_lr = vectorizer_lr.fit_transform(X_train)\n",
    "X_validation_tfidf_lr = vectorizer_lr.transform(X_validation)\n",
    "\n",
    "# Create Logistic Regression classifier\n",
    "lr_model = LogisticRegression()\n",
    "\n",
    "# Hyperparameter tuning using GridSearchCV\n",
    "param_grid_lr = {\n",
    "    'C': [0.001, 0.01, 0.1, 1, 10],\n",
    "    'penalty': ['l1', 'l2'],\n",
    "}\n",
    "\n",
    "grid_search_lr = GridSearchCV(lr_model, param_grid_lr, cv=5, scoring='accuracy')\n",
    "grid_search_lr.fit(X_train_tfidf_lr, y_train)\n",
    "\n",
    "# Get the best hyperparameters\n",
    "best_hyperparameters_lr = grid_search_lr.best_params_\n",
    "print(\"Best Hyperparameters for Logistic Regression:\", best_hyperparameters_lr)\n",
    "\n",
    "from sklearn.metrics import classification_report\n",
    "y_validation_pred_lr = grid_search_lr.predict(X_validation_tfidf_lr)\n",
    "print(classification_report(y_validation, y_validation_pred_lr))\n",
    "\n",
    "# Validate the model on the validation set\n",
    "y_validation_pred_lr = grid_search_lr.predict(X_validation_tfidf_lr)\n",
    "accuracy_lr = accuracy_score(y_validation, y_validation_pred_lr)\n",
    "print(\"Logistic Regression Accuracy on Validation Set:\", accuracy_lr)\n",
    "\n",
    "# Make predictions on the test set\n",
    "X_test_tfidf_lr = vectorizer_lr.transform(test_data['text'])\n",
    "test_predictions_lr = grid_search_lr.predict_proba(X_test_tfidf_lr)[:, 1]\n",
    "\n",
    "# Create a submission file for Logistic Regression\n",
    "submission_data_lr = pd.DataFrame({'id': test_data['id'], 'generated': test_predictions_lr})\n",
    "submission_data_lr.to_csv(\"submission_logistic_regression.csv\", index=False)\n"
   ]
  },
  {
   "cell_type": "code",
   "execution_count": null,
   "id": "86efca4e",
   "metadata": {},
   "outputs": [],
   "source": []
  }
 ],
 "metadata": {
  "kernelspec": {
   "display_name": "Python 3 (ipykernel)",
   "language": "python",
   "name": "python3"
  },
  "language_info": {
   "codemirror_mode": {
    "name": "ipython",
    "version": 3
   },
   "file_extension": ".py",
   "mimetype": "text/x-python",
   "name": "python",
   "nbconvert_exporter": "python",
   "pygments_lexer": "ipython3",
   "version": "3.11.0"
  }
 },
 "nbformat": 4,
 "nbformat_minor": 5
}
